{
 "cells": [
  {
   "cell_type": "code",
   "execution_count": 1,
   "metadata": {},
   "outputs": [],
   "source": [
    "import pandas as pd\n",
    "import numpy as np\n",
    "import pickle\n",
    "import matplotlib.pyplot as plt\n",
    "import seaborn as sns\n",
    "\n",
    "sns.set_theme()"
   ]
  },
  {
   "cell_type": "code",
   "execution_count": 2,
   "metadata": {},
   "outputs": [],
   "source": [
    "FILENAME='Case Study Data - Comp Research Associate(1)'\n",
    "SHEET1 = 'recruiting_activity'\n",
    "SHEET2 = 'candidate_profile'"
   ]
  },
  {
   "cell_type": "code",
   "execution_count": 67,
   "metadata": {},
   "outputs": [],
   "source": [
    "df_rec = pd.read_excel(\"{}.xlsx\".format(FILENAME), sheet_name=SHEET1)\n",
    "df_prof = pd.read_excel(\"{}.xlsx\".format(FILENAME), sheet_name=SHEET2)"
   ]
  },
  {
   "cell_type": "code",
   "execution_count": 68,
   "metadata": {},
   "outputs": [
    {
     "name": "stdout",
     "output_type": "stream",
     "text": [
      "(4996, 6)\n",
      "(4959, 10)\n"
     ]
    }
   ],
   "source": [
    "print(df_rec.shape)\n",
    "print(df_prof.shape)"
   ]
  },
  {
   "cell_type": "code",
   "execution_count": 69,
   "metadata": {},
   "outputs": [
    {
     "data": {
      "text/html": [
       "<div>\n",
       "<style scoped>\n",
       "    .dataframe tbody tr th:only-of-type {\n",
       "        vertical-align: middle;\n",
       "    }\n",
       "\n",
       "    .dataframe tbody tr th {\n",
       "        vertical-align: top;\n",
       "    }\n",
       "\n",
       "    .dataframe thead th {\n",
       "        text-align: right;\n",
       "    }\n",
       "</style>\n",
       "<table border=\"1\" class=\"dataframe\">\n",
       "  <thead>\n",
       "    <tr style=\"text-align: right;\">\n",
       "      <th></th>\n",
       "      <th>cand_id</th>\n",
       "      <th>position</th>\n",
       "      <th>dept</th>\n",
       "      <th>furthest_stage</th>\n",
       "      <th>app_date</th>\n",
       "      <th>app_source</th>\n",
       "    </tr>\n",
       "  </thead>\n",
       "  <tbody>\n",
       "    <tr>\n",
       "      <th>0</th>\n",
       "      <td>4188467</td>\n",
       "      <td>UX Designer</td>\n",
       "      <td>Product</td>\n",
       "      <td>New Application</td>\n",
       "      <td>2018-02-03 00:00:00</td>\n",
       "      <td>Agency</td>\n",
       "    </tr>\n",
       "    <tr>\n",
       "      <th>1</th>\n",
       "      <td>433034</td>\n",
       "      <td>UX Designer</td>\n",
       "      <td>Product</td>\n",
       "      <td>In-House Interview</td>\n",
       "      <td>2018-12-20 00:00:00</td>\n",
       "      <td>Website</td>\n",
       "    </tr>\n",
       "    <tr>\n",
       "      <th>2</th>\n",
       "      <td>337226</td>\n",
       "      <td>UX Designer</td>\n",
       "      <td>Product</td>\n",
       "      <td>In-House Interview</td>\n",
       "      <td>2017-02-27 00:00:00</td>\n",
       "      <td>Agency</td>\n",
       "    </tr>\n",
       "    <tr>\n",
       "      <th>3</th>\n",
       "      <td>6108441</td>\n",
       "      <td>UX Designer</td>\n",
       "      <td>Product</td>\n",
       "      <td>Phone Screen</td>\n",
       "      <td>2017-06-15 00:00:00</td>\n",
       "      <td>Agency</td>\n",
       "    </tr>\n",
       "    <tr>\n",
       "      <th>4</th>\n",
       "      <td>1536927</td>\n",
       "      <td>UX Designer</td>\n",
       "      <td>Product</td>\n",
       "      <td>In-House Interview</td>\n",
       "      <td>2017-10-18 00:00:00</td>\n",
       "      <td>Advertisement</td>\n",
       "    </tr>\n",
       "  </tbody>\n",
       "</table>\n",
       "</div>"
      ],
      "text/plain": [
       "   cand_id     position     dept      furthest_stage             app_date  \\\n",
       "0  4188467  UX Designer  Product     New Application  2018-02-03 00:00:00   \n",
       "1   433034  UX Designer  Product  In-House Interview  2018-12-20 00:00:00   \n",
       "2   337226  UX Designer  Product  In-House Interview  2017-02-27 00:00:00   \n",
       "3  6108441  UX Designer  Product        Phone Screen  2017-06-15 00:00:00   \n",
       "4  1536927  UX Designer  Product  In-House Interview  2017-10-18 00:00:00   \n",
       "\n",
       "      app_source  \n",
       "0         Agency  \n",
       "1        Website  \n",
       "2         Agency  \n",
       "3         Agency  \n",
       "4  Advertisement  "
      ]
     },
     "execution_count": 69,
     "metadata": {},
     "output_type": "execute_result"
    }
   ],
   "source": [
    "df_rec.head()"
   ]
  },
  {
   "cell_type": "code",
   "execution_count": 70,
   "metadata": {},
   "outputs": [
    {
     "data": {
      "text/html": [
       "<div>\n",
       "<style scoped>\n",
       "    .dataframe tbody tr th:only-of-type {\n",
       "        vertical-align: middle;\n",
       "    }\n",
       "\n",
       "    .dataframe tbody tr th {\n",
       "        vertical-align: top;\n",
       "    }\n",
       "\n",
       "    .dataframe thead th {\n",
       "        text-align: right;\n",
       "    }\n",
       "</style>\n",
       "<table border=\"1\" class=\"dataframe\">\n",
       "  <thead>\n",
       "    <tr style=\"text-align: right;\">\n",
       "      <th></th>\n",
       "      <th>cand_id</th>\n",
       "      <th>comp_exp</th>\n",
       "      <th>yrs_exp</th>\n",
       "      <th>industry</th>\n",
       "      <th>degree_1</th>\n",
       "      <th>school_region_1</th>\n",
       "      <th>degree_2</th>\n",
       "      <th>school_region_2</th>\n",
       "      <th>degree_3</th>\n",
       "      <th>school_region_3</th>\n",
       "    </tr>\n",
       "  </thead>\n",
       "  <tbody>\n",
       "    <tr>\n",
       "      <th>0</th>\n",
       "      <td>2468</td>\n",
       "      <td>85100</td>\n",
       "      <td>36.262295</td>\n",
       "      <td>Government</td>\n",
       "      <td>PhD</td>\n",
       "      <td>region_5</td>\n",
       "      <td>Masters</td>\n",
       "      <td>region_4</td>\n",
       "      <td>Bachelors</td>\n",
       "      <td>region_2</td>\n",
       "    </tr>\n",
       "    <tr>\n",
       "      <th>1</th>\n",
       "      <td>2471</td>\n",
       "      <td>74700</td>\n",
       "      <td>8.373134</td>\n",
       "      <td>Other</td>\n",
       "      <td>Masters</td>\n",
       "      <td>region_2</td>\n",
       "      <td>Bachelors</td>\n",
       "      <td>region_5</td>\n",
       "      <td>NaN</td>\n",
       "      <td>NaN</td>\n",
       "    </tr>\n",
       "    <tr>\n",
       "      <th>2</th>\n",
       "      <td>2475</td>\n",
       "      <td>70900</td>\n",
       "      <td>30.442623</td>\n",
       "      <td>Government</td>\n",
       "      <td>Masters</td>\n",
       "      <td>region_5</td>\n",
       "      <td>Bachelors</td>\n",
       "      <td>region_3</td>\n",
       "      <td>NaN</td>\n",
       "      <td>NaN</td>\n",
       "    </tr>\n",
       "    <tr>\n",
       "      <th>3</th>\n",
       "      <td>2480</td>\n",
       "      <td>93000</td>\n",
       "      <td>16.567164</td>\n",
       "      <td>Government</td>\n",
       "      <td>Masters</td>\n",
       "      <td>region_2</td>\n",
       "      <td>Bachelors</td>\n",
       "      <td>region_3</td>\n",
       "      <td>NaN</td>\n",
       "      <td>NaN</td>\n",
       "    </tr>\n",
       "    <tr>\n",
       "      <th>4</th>\n",
       "      <td>2486</td>\n",
       "      <td>82500</td>\n",
       "      <td>11.865672</td>\n",
       "      <td>Other</td>\n",
       "      <td>Masters</td>\n",
       "      <td>region_1</td>\n",
       "      <td>Bachelors</td>\n",
       "      <td>region_5</td>\n",
       "      <td>NaN</td>\n",
       "      <td>NaN</td>\n",
       "    </tr>\n",
       "  </tbody>\n",
       "</table>\n",
       "</div>"
      ],
      "text/plain": [
       "   cand_id  comp_exp    yrs_exp    industry degree_1 school_region_1  \\\n",
       "0     2468     85100  36.262295  Government      PhD        region_5   \n",
       "1     2471     74700   8.373134       Other  Masters        region_2   \n",
       "2     2475     70900  30.442623  Government  Masters        region_5   \n",
       "3     2480     93000  16.567164  Government  Masters        region_2   \n",
       "4     2486     82500  11.865672       Other  Masters        region_1   \n",
       "\n",
       "    degree_2 school_region_2   degree_3 school_region_3  \n",
       "0    Masters        region_4  Bachelors        region_2  \n",
       "1  Bachelors        region_5        NaN             NaN  \n",
       "2  Bachelors        region_3        NaN             NaN  \n",
       "3  Bachelors        region_3        NaN             NaN  \n",
       "4  Bachelors        region_5        NaN             NaN  "
      ]
     },
     "execution_count": 70,
     "metadata": {},
     "output_type": "execute_result"
    }
   ],
   "source": [
    "df_prof.head()"
   ]
  },
  {
   "cell_type": "code",
   "execution_count": 71,
   "metadata": {},
   "outputs": [
    {
     "data": {
      "text/plain": [
       "(4959,)"
      ]
     },
     "execution_count": 71,
     "metadata": {},
     "output_type": "execute_result"
    }
   ],
   "source": [
    "df_rec.cand_id.unique().shape"
   ]
  },
  {
   "cell_type": "code",
   "execution_count": 72,
   "metadata": {},
   "outputs": [
    {
     "data": {
      "text/plain": [
       "(4959,)"
      ]
     },
     "execution_count": 72,
     "metadata": {},
     "output_type": "execute_result"
    }
   ],
   "source": [
    "df_prof.cand_id.unique().shape"
   ]
  },
  {
   "cell_type": "code",
   "execution_count": 73,
   "metadata": {},
   "outputs": [
    {
     "data": {
      "text/plain": [
       "[]"
      ]
     },
     "execution_count": 73,
     "metadata": {},
     "output_type": "execute_result"
    }
   ],
   "source": [
    "[x for x in df_rec.cand_id.unique() if x not in df_prof.cand_id.unique()]"
   ]
  },
  {
   "cell_type": "code",
   "execution_count": 74,
   "metadata": {},
   "outputs": [
    {
     "data": {
      "text/plain": [
       "[]"
      ]
     },
     "execution_count": 74,
     "metadata": {},
     "output_type": "execute_result"
    }
   ],
   "source": [
    "[x for x in df_prof.cand_id.unique() if x not in df_rec.cand_id.unique()]"
   ]
  },
  {
   "cell_type": "code",
   "execution_count": 75,
   "metadata": {},
   "outputs": [],
   "source": [
    "df = df_rec.merge(df_prof, on='cand_id', how='left')"
   ]
  },
  {
   "cell_type": "code",
   "execution_count": 76,
   "metadata": {},
   "outputs": [
    {
     "data": {
      "text/plain": [
       "(4996, 15)"
      ]
     },
     "execution_count": 76,
     "metadata": {},
     "output_type": "execute_result"
    }
   ],
   "source": [
    "df.shape"
   ]
  },
  {
   "cell_type": "code",
   "execution_count": 77,
   "metadata": {},
   "outputs": [
    {
     "data": {
      "text/plain": [
       "Bachelors    3302\n",
       "Masters      1141\n",
       "PhD           553\n",
       "Name: degree_1, dtype: int64"
      ]
     },
     "execution_count": 77,
     "metadata": {},
     "output_type": "execute_result"
    }
   ],
   "source": [
    "df.degree_1.value_counts()"
   ]
  },
  {
   "cell_type": "code",
   "execution_count": 78,
   "metadata": {},
   "outputs": [
    {
     "data": {
      "text/plain": [
       "Bachelors    1153\n",
       "Masters       955\n",
       "PhD            28\n",
       "JD              6\n",
       "Name: degree_2, dtype: int64"
      ]
     },
     "execution_count": 78,
     "metadata": {},
     "output_type": "execute_result"
    }
   ],
   "source": [
    "df.degree_2.value_counts()"
   ]
  },
  {
   "cell_type": "code",
   "execution_count": 79,
   "metadata": {},
   "outputs": [
    {
     "data": {
      "text/plain": [
       "Bachelors    541\n",
       "PhD          333\n",
       "Masters       36\n",
       "JD             4\n",
       "Name: degree_3, dtype: int64"
      ]
     },
     "execution_count": 79,
     "metadata": {},
     "output_type": "execute_result"
    }
   ],
   "source": [
    "df.degree_3.value_counts()"
   ]
  },
  {
   "cell_type": "code",
   "execution_count": 80,
   "metadata": {},
   "outputs": [],
   "source": [
    "df['Degree Concat'] = df.degree_1.astype(str)+df.degree_2.astype(str)+df.degree_3.astype(str)"
   ]
  },
  {
   "cell_type": "code",
   "execution_count": 81,
   "metadata": {},
   "outputs": [],
   "source": [
    "df['Highest Degree'] = np.where(df['Degree Concat'].str.contains('PhD'), \"PhD\",\n",
    "                                np.where(df['Degree Concat'].str.contains('JD'), \"JD\", \n",
    "                                         np.where(df['Degree Concat'].str.contains('Masters'), \"Masters\", \n",
    "                                                  np.where(df['Degree Concat'].str.contains('Bachelors'), \"Bachelors\", \"\")\n",
    "                                                  )\n",
    "                                         )\n",
    "                                )"
   ]
  },
  {
   "cell_type": "code",
   "execution_count": 82,
   "metadata": {},
   "outputs": [
    {
     "data": {
      "text/plain": [
       "Bachelors    2854\n",
       "Masters      1228\n",
       "PhD           914\n",
       "Name: Highest Degree, dtype: int64"
      ]
     },
     "execution_count": 82,
     "metadata": {},
     "output_type": "execute_result"
    }
   ],
   "source": [
    "df['Highest Degree'].value_counts()"
   ]
  },
  {
   "cell_type": "code",
   "execution_count": 83,
   "metadata": {},
   "outputs": [
    {
     "data": {
      "text/html": [
       "<div>\n",
       "<style scoped>\n",
       "    .dataframe tbody tr th:only-of-type {\n",
       "        vertical-align: middle;\n",
       "    }\n",
       "\n",
       "    .dataframe tbody tr th {\n",
       "        vertical-align: top;\n",
       "    }\n",
       "\n",
       "    .dataframe thead th {\n",
       "        text-align: right;\n",
       "    }\n",
       "</style>\n",
       "<table border=\"1\" class=\"dataframe\">\n",
       "  <thead>\n",
       "    <tr style=\"text-align: right;\">\n",
       "      <th></th>\n",
       "      <th>cand_id</th>\n",
       "      <th>position</th>\n",
       "      <th>dept</th>\n",
       "      <th>furthest_stage</th>\n",
       "      <th>app_date</th>\n",
       "      <th>app_source</th>\n",
       "      <th>comp_exp</th>\n",
       "      <th>yrs_exp</th>\n",
       "      <th>industry</th>\n",
       "      <th>degree_1</th>\n",
       "      <th>school_region_1</th>\n",
       "      <th>degree_2</th>\n",
       "      <th>school_region_2</th>\n",
       "      <th>degree_3</th>\n",
       "      <th>school_region_3</th>\n",
       "      <th>Degree Concat</th>\n",
       "      <th>Highest Degree</th>\n",
       "    </tr>\n",
       "  </thead>\n",
       "  <tbody>\n",
       "    <tr>\n",
       "      <th>4914</th>\n",
       "      <td>3708911</td>\n",
       "      <td>Account Executive</td>\n",
       "      <td>Sales</td>\n",
       "      <td>New Application</td>\n",
       "      <td>2017-03-12 00:00:00</td>\n",
       "      <td>Advertisement</td>\n",
       "      <td>80200</td>\n",
       "      <td>7.722561</td>\n",
       "      <td>Finance</td>\n",
       "      <td>PhD</td>\n",
       "      <td>region_4</td>\n",
       "      <td>JD</td>\n",
       "      <td>region_4</td>\n",
       "      <td>Bachelors</td>\n",
       "      <td>region_3</td>\n",
       "      <td>PhDJDBachelors</td>\n",
       "      <td>PhD</td>\n",
       "    </tr>\n",
       "    <tr>\n",
       "      <th>4918</th>\n",
       "      <td>306159</td>\n",
       "      <td>Account Executive</td>\n",
       "      <td>Sales</td>\n",
       "      <td>New Application</td>\n",
       "      <td>2017-05-03 00:00:00</td>\n",
       "      <td>Advertisement</td>\n",
       "      <td>79600</td>\n",
       "      <td>7.448171</td>\n",
       "      <td>Government</td>\n",
       "      <td>PhD</td>\n",
       "      <td>region_1</td>\n",
       "      <td>JD</td>\n",
       "      <td>region_1</td>\n",
       "      <td>Bachelors</td>\n",
       "      <td>region_3</td>\n",
       "      <td>PhDJDBachelors</td>\n",
       "      <td>PhD</td>\n",
       "    </tr>\n",
       "    <tr>\n",
       "      <th>4923</th>\n",
       "      <td>709607</td>\n",
       "      <td>Account Executive</td>\n",
       "      <td>Sales</td>\n",
       "      <td>In-House Interview</td>\n",
       "      <td>2018-04-05 00:00:00</td>\n",
       "      <td>Website</td>\n",
       "      <td>79000</td>\n",
       "      <td>7.173780</td>\n",
       "      <td>Finance</td>\n",
       "      <td>PhD</td>\n",
       "      <td>region_2</td>\n",
       "      <td>JD</td>\n",
       "      <td>region_5</td>\n",
       "      <td>Bachelors</td>\n",
       "      <td>region_5</td>\n",
       "      <td>PhDJDBachelors</td>\n",
       "      <td>PhD</td>\n",
       "    </tr>\n",
       "    <tr>\n",
       "      <th>4925</th>\n",
       "      <td>6258941</td>\n",
       "      <td>Account Executive</td>\n",
       "      <td>Sales</td>\n",
       "      <td>Phone Screen</td>\n",
       "      <td>2018-09-04 00:00:00</td>\n",
       "      <td>Website</td>\n",
       "      <td>78800</td>\n",
       "      <td>7.082317</td>\n",
       "      <td>Technology</td>\n",
       "      <td>PhD</td>\n",
       "      <td>region_3</td>\n",
       "      <td>JD</td>\n",
       "      <td>region_3</td>\n",
       "      <td>Bachelors</td>\n",
       "      <td>region_1</td>\n",
       "      <td>PhDJDBachelors</td>\n",
       "      <td>PhD</td>\n",
       "    </tr>\n",
       "    <tr>\n",
       "      <th>4933</th>\n",
       "      <td>98318</td>\n",
       "      <td>Account Executive</td>\n",
       "      <td>Sales</td>\n",
       "      <td>Offer Sent</td>\n",
       "      <td>2017-01-14 00:00:00</td>\n",
       "      <td>Agency</td>\n",
       "      <td>78200</td>\n",
       "      <td>6.807927</td>\n",
       "      <td>Finance</td>\n",
       "      <td>PhD</td>\n",
       "      <td>region_3</td>\n",
       "      <td>JD</td>\n",
       "      <td>region_4</td>\n",
       "      <td>Bachelors</td>\n",
       "      <td>region_4</td>\n",
       "      <td>PhDJDBachelors</td>\n",
       "      <td>PhD</td>\n",
       "    </tr>\n",
       "    <tr>\n",
       "      <th>4941</th>\n",
       "      <td>2005181</td>\n",
       "      <td>Account Executive</td>\n",
       "      <td>Sales</td>\n",
       "      <td>New Application</td>\n",
       "      <td>2018-03-16 00:00:00</td>\n",
       "      <td>Advertisement</td>\n",
       "      <td>77600</td>\n",
       "      <td>6.533537</td>\n",
       "      <td>Finance</td>\n",
       "      <td>PhD</td>\n",
       "      <td>region_3</td>\n",
       "      <td>JD</td>\n",
       "      <td>region_2</td>\n",
       "      <td>Bachelors</td>\n",
       "      <td>region_1</td>\n",
       "      <td>PhDJDBachelors</td>\n",
       "      <td>PhD</td>\n",
       "    </tr>\n",
       "    <tr>\n",
       "      <th>4989</th>\n",
       "      <td>1698747</td>\n",
       "      <td>Account Executive</td>\n",
       "      <td>Sales</td>\n",
       "      <td>New Application</td>\n",
       "      <td>2018-09-05 00:00:00</td>\n",
       "      <td>Advertisement</td>\n",
       "      <td>69400</td>\n",
       "      <td>2.783537</td>\n",
       "      <td>Finance</td>\n",
       "      <td>PhD</td>\n",
       "      <td>region_4</td>\n",
       "      <td>Bachelors</td>\n",
       "      <td>region_3</td>\n",
       "      <td>JD</td>\n",
       "      <td>region_1</td>\n",
       "      <td>PhDBachelorsJD</td>\n",
       "      <td>PhD</td>\n",
       "    </tr>\n",
       "    <tr>\n",
       "      <th>4991</th>\n",
       "      <td>1769181</td>\n",
       "      <td>Account Executive</td>\n",
       "      <td>Sales</td>\n",
       "      <td>New Application</td>\n",
       "      <td>2017-07-28 00:00:00</td>\n",
       "      <td>Advertisement</td>\n",
       "      <td>67900</td>\n",
       "      <td>2.097561</td>\n",
       "      <td>Technology</td>\n",
       "      <td>PhD</td>\n",
       "      <td>region_4</td>\n",
       "      <td>Bachelors</td>\n",
       "      <td>region_3</td>\n",
       "      <td>JD</td>\n",
       "      <td>region_1</td>\n",
       "      <td>PhDBachelorsJD</td>\n",
       "      <td>PhD</td>\n",
       "    </tr>\n",
       "    <tr>\n",
       "      <th>4993</th>\n",
       "      <td>6089306</td>\n",
       "      <td>Account Executive</td>\n",
       "      <td>Sales</td>\n",
       "      <td>Phone Screen</td>\n",
       "      <td>2018-05-09 00:00:00</td>\n",
       "      <td>Website</td>\n",
       "      <td>67400</td>\n",
       "      <td>1.868902</td>\n",
       "      <td>Technology</td>\n",
       "      <td>PhD</td>\n",
       "      <td>region_4</td>\n",
       "      <td>Bachelors</td>\n",
       "      <td>region_2</td>\n",
       "      <td>JD</td>\n",
       "      <td>region_3</td>\n",
       "      <td>PhDBachelorsJD</td>\n",
       "      <td>PhD</td>\n",
       "    </tr>\n",
       "    <tr>\n",
       "      <th>4994</th>\n",
       "      <td>305522</td>\n",
       "      <td>Account Executive</td>\n",
       "      <td>Sales</td>\n",
       "      <td>New Application</td>\n",
       "      <td>2017-06-04 00:00:00</td>\n",
       "      <td>Agency</td>\n",
       "      <td>66400</td>\n",
       "      <td>1.411585</td>\n",
       "      <td>Government</td>\n",
       "      <td>PhD</td>\n",
       "      <td>region_5</td>\n",
       "      <td>Bachelors</td>\n",
       "      <td>region_2</td>\n",
       "      <td>JD</td>\n",
       "      <td>region_2</td>\n",
       "      <td>PhDBachelorsJD</td>\n",
       "      <td>PhD</td>\n",
       "    </tr>\n",
       "  </tbody>\n",
       "</table>\n",
       "</div>"
      ],
      "text/plain": [
       "      cand_id           position   dept      furthest_stage  \\\n",
       "4914  3708911  Account Executive  Sales     New Application   \n",
       "4918   306159  Account Executive  Sales     New Application   \n",
       "4923   709607  Account Executive  Sales  In-House Interview   \n",
       "4925  6258941  Account Executive  Sales        Phone Screen   \n",
       "4933    98318  Account Executive  Sales          Offer Sent   \n",
       "4941  2005181  Account Executive  Sales     New Application   \n",
       "4989  1698747  Account Executive  Sales     New Application   \n",
       "4991  1769181  Account Executive  Sales     New Application   \n",
       "4993  6089306  Account Executive  Sales        Phone Screen   \n",
       "4994   305522  Account Executive  Sales     New Application   \n",
       "\n",
       "                 app_date     app_source  comp_exp   yrs_exp    industry  \\\n",
       "4914  2017-03-12 00:00:00  Advertisement     80200  7.722561     Finance   \n",
       "4918  2017-05-03 00:00:00  Advertisement     79600  7.448171  Government   \n",
       "4923  2018-04-05 00:00:00        Website     79000  7.173780     Finance   \n",
       "4925  2018-09-04 00:00:00        Website     78800  7.082317  Technology   \n",
       "4933  2017-01-14 00:00:00         Agency     78200  6.807927     Finance   \n",
       "4941  2018-03-16 00:00:00  Advertisement     77600  6.533537     Finance   \n",
       "4989  2018-09-05 00:00:00  Advertisement     69400  2.783537     Finance   \n",
       "4991  2017-07-28 00:00:00  Advertisement     67900  2.097561  Technology   \n",
       "4993  2018-05-09 00:00:00        Website     67400  1.868902  Technology   \n",
       "4994  2017-06-04 00:00:00         Agency     66400  1.411585  Government   \n",
       "\n",
       "     degree_1 school_region_1   degree_2 school_region_2   degree_3  \\\n",
       "4914      PhD        region_4         JD        region_4  Bachelors   \n",
       "4918      PhD        region_1         JD        region_1  Bachelors   \n",
       "4923      PhD        region_2         JD        region_5  Bachelors   \n",
       "4925      PhD        region_3         JD        region_3  Bachelors   \n",
       "4933      PhD        region_3         JD        region_4  Bachelors   \n",
       "4941      PhD        region_3         JD        region_2  Bachelors   \n",
       "4989      PhD        region_4  Bachelors        region_3         JD   \n",
       "4991      PhD        region_4  Bachelors        region_3         JD   \n",
       "4993      PhD        region_4  Bachelors        region_2         JD   \n",
       "4994      PhD        region_5  Bachelors        region_2         JD   \n",
       "\n",
       "     school_region_3   Degree Concat Highest Degree  \n",
       "4914        region_3  PhDJDBachelors            PhD  \n",
       "4918        region_3  PhDJDBachelors            PhD  \n",
       "4923        region_5  PhDJDBachelors            PhD  \n",
       "4925        region_1  PhDJDBachelors            PhD  \n",
       "4933        region_4  PhDJDBachelors            PhD  \n",
       "4941        region_1  PhDJDBachelors            PhD  \n",
       "4989        region_1  PhDBachelorsJD            PhD  \n",
       "4991        region_1  PhDBachelorsJD            PhD  \n",
       "4993        region_3  PhDBachelorsJD            PhD  \n",
       "4994        region_2  PhDBachelorsJD            PhD  "
      ]
     },
     "execution_count": 83,
     "metadata": {},
     "output_type": "execute_result"
    }
   ],
   "source": [
    "df.loc[df['Degree Concat'].str.contains(\"JD\")]"
   ]
  },
  {
   "cell_type": "code",
   "execution_count": 84,
   "metadata": {},
   "outputs": [],
   "source": [
    "dupes = [x[0] for x in df.groupby(['cand_id','dept']).size().loc[df.groupby(['cand_id','dept']).size().sort_values()==2].index]"
   ]
  },
  {
   "cell_type": "code",
   "execution_count": 85,
   "metadata": {},
   "outputs": [],
   "source": [
    "df['furthers_stage_enc'] = df[\"furthest_stage\"].replace({\n",
    "    'New Application':1,\n",
    "    'Phone Screen':2,\n",
    "    'In-House Interview':3,\n",
    "    'Offer Sent':4\n",
    "})"
   ]
  },
  {
   "cell_type": "code",
   "execution_count": 86,
   "metadata": {},
   "outputs": [
    {
     "data": {
      "text/plain": [
       "New Application       3401\n",
       "Phone Screen           780\n",
       "In-House Interview     691\n",
       "Offer Sent             124\n",
       "Name: furthest_stage, dtype: int64"
      ]
     },
     "execution_count": 86,
     "metadata": {},
     "output_type": "execute_result"
    }
   ],
   "source": [
    "df.furthest_stage.value_counts()"
   ]
  },
  {
   "cell_type": "code",
   "execution_count": 87,
   "metadata": {},
   "outputs": [
    {
     "data": {
      "text/plain": [
       "1    3401\n",
       "2     780\n",
       "3     691\n",
       "4     124\n",
       "Name: furthers_stage_enc, dtype: int64"
      ]
     },
     "execution_count": 87,
     "metadata": {},
     "output_type": "execute_result"
    }
   ],
   "source": [
    "df.furthers_stage_enc.value_counts()"
   ]
  },
  {
   "cell_type": "code",
   "execution_count": 88,
   "metadata": {},
   "outputs": [],
   "source": [
    "df = df.sort_values(['cand_id', 'dept', 'furthest_stage']).drop_duplicates(['cand_id', 'dept'], keep='last')"
   ]
  },
  {
   "cell_type": "code",
   "execution_count": 89,
   "metadata": {},
   "outputs": [
    {
     "data": {
      "text/plain": [
       "(4966, 18)"
      ]
     },
     "execution_count": 89,
     "metadata": {},
     "output_type": "execute_result"
    }
   ],
   "source": [
    "df.shape"
   ]
  },
  {
   "cell_type": "code",
   "execution_count": 118,
   "metadata": {},
   "outputs": [
    {
     "data": {
      "text/html": [
       "<style type=\"text/css\">\n",
       "</style>\n",
       "<table id=\"T_d4dce\">\n",
       "  <thead>\n",
       "    <tr>\n",
       "      <th class=\"index_name level0\" >Highest Degree</th>\n",
       "      <th id=\"T_d4dce_level0_col0\" class=\"col_heading level0 col0\" >Bachelors Applicants</th>\n",
       "      <th id=\"T_d4dce_level0_col1\" class=\"col_heading level0 col1\" >Bachelors Conversion Rate</th>\n",
       "      <th id=\"T_d4dce_level0_col2\" class=\"col_heading level0 col2\" >Masters Applicants</th>\n",
       "      <th id=\"T_d4dce_level0_col3\" class=\"col_heading level0 col3\" >Masters Conversion Rate</th>\n",
       "      <th id=\"T_d4dce_level0_col4\" class=\"col_heading level0 col4\" >PhD Applicants</th>\n",
       "      <th id=\"T_d4dce_level0_col5\" class=\"col_heading level0 col5\" >PhD Conversion Rate</th>\n",
       "    </tr>\n",
       "    <tr>\n",
       "      <th class=\"index_name level0\" >furthest_stage</th>\n",
       "      <th class=\"blank col0\" >&nbsp;</th>\n",
       "      <th class=\"blank col1\" >&nbsp;</th>\n",
       "      <th class=\"blank col2\" >&nbsp;</th>\n",
       "      <th class=\"blank col3\" >&nbsp;</th>\n",
       "      <th class=\"blank col4\" >&nbsp;</th>\n",
       "      <th class=\"blank col5\" >&nbsp;</th>\n",
       "    </tr>\n",
       "  </thead>\n",
       "  <tbody>\n",
       "    <tr>\n",
       "      <th id=\"T_d4dce_level0_row0\" class=\"row_heading level0 row0\" >New Application</th>\n",
       "      <td id=\"T_d4dce_row0_col0\" class=\"data row0 col0\" >2182</td>\n",
       "      <td id=\"T_d4dce_row0_col1\" class=\"data row0 col1\" >0%</td>\n",
       "      <td id=\"T_d4dce_row0_col2\" class=\"data row0 col2\" >842</td>\n",
       "      <td id=\"T_d4dce_row0_col3\" class=\"data row0 col3\" >0%</td>\n",
       "      <td id=\"T_d4dce_row0_col4\" class=\"data row0 col4\" >354</td>\n",
       "      <td id=\"T_d4dce_row0_col5\" class=\"data row0 col5\" >0%</td>\n",
       "    </tr>\n",
       "    <tr>\n",
       "      <th id=\"T_d4dce_level0_row1\" class=\"row_heading level0 row1\" >Phone Screen</th>\n",
       "      <td id=\"T_d4dce_row1_col0\" class=\"data row1 col0\" >342</td>\n",
       "      <td id=\"T_d4dce_row1_col1\" class=\"data row1 col1\" >16%</td>\n",
       "      <td id=\"T_d4dce_row1_col2\" class=\"data row1 col2\" >174</td>\n",
       "      <td id=\"T_d4dce_row1_col3\" class=\"data row1 col3\" >21%</td>\n",
       "      <td id=\"T_d4dce_row1_col4\" class=\"data row1 col4\" >264</td>\n",
       "      <td id=\"T_d4dce_row1_col5\" class=\"data row1 col5\" >75%</td>\n",
       "    </tr>\n",
       "    <tr>\n",
       "      <th id=\"T_d4dce_level0_row2\" class=\"row_heading level0 row2\" >In-House Interview</th>\n",
       "      <td id=\"T_d4dce_row2_col0\" class=\"data row2 col0\" >250</td>\n",
       "      <td id=\"T_d4dce_row2_col1\" class=\"data row2 col1\" >73%</td>\n",
       "      <td id=\"T_d4dce_row2_col2\" class=\"data row2 col2\" >172</td>\n",
       "      <td id=\"T_d4dce_row2_col3\" class=\"data row2 col3\" >99%</td>\n",
       "      <td id=\"T_d4dce_row2_col4\" class=\"data row2 col4\" >262</td>\n",
       "      <td id=\"T_d4dce_row2_col5\" class=\"data row2 col5\" >99%</td>\n",
       "    </tr>\n",
       "    <tr>\n",
       "      <th id=\"T_d4dce_level0_row3\" class=\"row_heading level0 row3\" >Offer Sent</th>\n",
       "      <td id=\"T_d4dce_row3_col0\" class=\"data row3 col0\" >64</td>\n",
       "      <td id=\"T_d4dce_row3_col1\" class=\"data row3 col1\" >26%</td>\n",
       "      <td id=\"T_d4dce_row3_col2\" class=\"data row3 col2\" >30</td>\n",
       "      <td id=\"T_d4dce_row3_col3\" class=\"data row3 col3\" >17%</td>\n",
       "      <td id=\"T_d4dce_row3_col4\" class=\"data row3 col4\" >30</td>\n",
       "      <td id=\"T_d4dce_row3_col5\" class=\"data row3 col5\" >11%</td>\n",
       "    </tr>\n",
       "  </tbody>\n",
       "</table>\n"
      ],
      "text/plain": [
       "<pandas.io.formats.style.Styler at 0x24f7d9e1dd0>"
      ]
     },
     "execution_count": 118,
     "metadata": {},
     "output_type": "execute_result"
    }
   ],
   "source": [
    "funnel = df.pivot_table(values='cand_id', index=['furthest_stage'], columns='Highest Degree', aggfunc='count')\n",
    "funnel = funnel.reindex(['New Application', 'Phone Screen','In-House Interview',  'Offer Sent'])\n",
    "funnel['Bachelors Conversion Rate'] = funnel['Bachelors'].transform(lambda x: x / x.shift(1))\n",
    "\n",
    "funnel['Masters Conversion Rate'] = funnel['Masters'].transform(lambda x: x / x.shift(1))\n",
    "funnel['PhD Conversion Rate'] = funnel['PhD'].transform(lambda x: x /x.shift(1))\n",
    "\n",
    "funnel = funnel.rename({'Bachelors':'Bachelors Applicants',\n",
    "               'Masters':'Masters Applicants',\n",
    "               'PhD':'PhD Applicants'}, axis=1)\n",
    "\n",
    "funnel = funnel.reindex(sorted(funnel.columns), axis=1)\n",
    "funnel = funnel.fillna(0)\n",
    "\n",
    "funnel.style.format({\n",
    "    'Bachelors Conversion Rate': '{:,.0%}'.format,\n",
    "    'Masters Conversion Rate': '{:,.0%}'.format,\n",
    "    'PhD Conversion Rate': '{:,.0%}'.format,\n",
    "})"
   ]
  },
  {
   "cell_type": "code",
   "execution_count": 140,
   "metadata": {},
   "outputs": [
    {
     "name": "stdout",
     "output_type": "stream",
     "text": [
      "| furthest_stage     |   Bachelors Applicants |   Bachelors Conversion Rate |   Masters Applicants |   Masters Conversion Rate |   PhD Applicants |   PhD Conversion Rate |\n",
      "|:-------------------|-----------------------:|----------------------------:|---------------------:|--------------------------:|-----------------:|----------------------:|\n",
      "| New Application    |                   2182 |                    0        |                  842 |                  0        |              354 |              0        |\n",
      "| Phone Screen       |                    342 |                    0.156737 |                  174 |                  0.206651 |              264 |              0.745763 |\n",
      "| In-House Interview |                    250 |                    0.730994 |                  172 |                  0.988506 |              262 |              0.992424 |\n",
      "| Offer Sent         |                     64 |                    0.256    |                   30 |                  0.174419 |               30 |              0.114504 |\n"
     ]
    }
   ],
   "source": [
    "print(funnel.to_markdown())"
   ]
  },
  {
   "cell_type": "code",
   "execution_count": 121,
   "metadata": {},
   "outputs": [
    {
     "data": {
      "text/plain": [
       "dept         Highest Degree\n",
       "Engineering  Bachelors         63545.099668\n",
       "             Masters           64139.735099\n",
       "             PhD               72212.866450\n",
       "Finance      Bachelors         75756.877323\n",
       "             Masters           78391.812865\n",
       "             PhD               77026.086957\n",
       "IT           Bachelors         76044.155844\n",
       "             Masters           74381.250000\n",
       "             PhD               64905.882353\n",
       "Product      Bachelors         69537.037037\n",
       "             Masters           70954.368932\n",
       "             PhD               70933.783784\n",
       "Sales        Bachelors         79307.237636\n",
       "             Masters           79540.572391\n",
       "             PhD               78435.294118\n",
       "Name: comp_exp, dtype: float64"
      ]
     },
     "execution_count": 121,
     "metadata": {},
     "output_type": "execute_result"
    }
   ],
   "source": [
    "#a.\tDo applicants with a PhD expect to make more than candidates who don’t have a PhD\n",
    "\n",
    "df.groupby(['dept','Highest Degree']).comp_exp.mean()"
   ]
  },
  {
   "cell_type": "code",
   "execution_count": 119,
   "metadata": {},
   "outputs": [
    {
     "data": {
      "text/html": [
       "<div>\n",
       "<style scoped>\n",
       "    .dataframe tbody tr th:only-of-type {\n",
       "        vertical-align: middle;\n",
       "    }\n",
       "\n",
       "    .dataframe tbody tr th {\n",
       "        vertical-align: top;\n",
       "    }\n",
       "\n",
       "    .dataframe thead th {\n",
       "        text-align: right;\n",
       "    }\n",
       "</style>\n",
       "<table border=\"1\" class=\"dataframe\">\n",
       "  <thead>\n",
       "    <tr style=\"text-align: right;\">\n",
       "      <th></th>\n",
       "      <th>cand_id</th>\n",
       "      <th>position</th>\n",
       "      <th>dept</th>\n",
       "      <th>furthest_stage</th>\n",
       "      <th>app_date</th>\n",
       "      <th>app_source</th>\n",
       "      <th>comp_exp</th>\n",
       "      <th>yrs_exp</th>\n",
       "      <th>industry</th>\n",
       "      <th>degree_1</th>\n",
       "      <th>school_region_1</th>\n",
       "      <th>degree_2</th>\n",
       "      <th>school_region_2</th>\n",
       "      <th>degree_3</th>\n",
       "      <th>school_region_3</th>\n",
       "      <th>Degree Concat</th>\n",
       "      <th>Highest Degree</th>\n",
       "      <th>furthers_stage_enc</th>\n",
       "    </tr>\n",
       "  </thead>\n",
       "  <tbody>\n",
       "    <tr>\n",
       "      <th>820</th>\n",
       "      <td>2468</td>\n",
       "      <td>Associate Software Developer</td>\n",
       "      <td>Engineering</td>\n",
       "      <td>Offer Sent</td>\n",
       "      <td>2018-11-01 00:00:00</td>\n",
       "      <td>Campus Job Board</td>\n",
       "      <td>85100</td>\n",
       "      <td>36.262295</td>\n",
       "      <td>Government</td>\n",
       "      <td>PhD</td>\n",
       "      <td>region_5</td>\n",
       "      <td>Masters</td>\n",
       "      <td>region_4</td>\n",
       "      <td>Bachelors</td>\n",
       "      <td>region_2</td>\n",
       "      <td>PhDMastersBachelors</td>\n",
       "      <td>PhD</td>\n",
       "      <td>4</td>\n",
       "    </tr>\n",
       "    <tr>\n",
       "      <th>4002</th>\n",
       "      <td>2471</td>\n",
       "      <td>Associate Relationship Manager</td>\n",
       "      <td>Sales</td>\n",
       "      <td>Offer Sent</td>\n",
       "      <td>2018-12-13 00:00:00</td>\n",
       "      <td>Campus Event</td>\n",
       "      <td>74700</td>\n",
       "      <td>8.373134</td>\n",
       "      <td>Other</td>\n",
       "      <td>Masters</td>\n",
       "      <td>region_2</td>\n",
       "      <td>Bachelors</td>\n",
       "      <td>region_5</td>\n",
       "      <td>NaN</td>\n",
       "      <td>NaN</td>\n",
       "      <td>MastersBachelorsnan</td>\n",
       "      <td>Masters</td>\n",
       "      <td>4</td>\n",
       "    </tr>\n",
       "    <tr>\n",
       "      <th>1181</th>\n",
       "      <td>2475</td>\n",
       "      <td>Associate Software Developer</td>\n",
       "      <td>Engineering</td>\n",
       "      <td>Offer Sent</td>\n",
       "      <td>2018-12-21 00:00:00</td>\n",
       "      <td>Advertisement</td>\n",
       "      <td>70900</td>\n",
       "      <td>30.442623</td>\n",
       "      <td>Government</td>\n",
       "      <td>Masters</td>\n",
       "      <td>region_5</td>\n",
       "      <td>Bachelors</td>\n",
       "      <td>region_3</td>\n",
       "      <td>NaN</td>\n",
       "      <td>NaN</td>\n",
       "      <td>MastersBachelorsnan</td>\n",
       "      <td>Masters</td>\n",
       "      <td>4</td>\n",
       "    </tr>\n",
       "    <tr>\n",
       "      <th>2917</th>\n",
       "      <td>2480</td>\n",
       "      <td>Associate Relationship Manager</td>\n",
       "      <td>Sales</td>\n",
       "      <td>Offer Sent</td>\n",
       "      <td>2018-12-25 00:00:00</td>\n",
       "      <td>Campus Event</td>\n",
       "      <td>93000</td>\n",
       "      <td>16.567164</td>\n",
       "      <td>Government</td>\n",
       "      <td>Masters</td>\n",
       "      <td>region_2</td>\n",
       "      <td>Bachelors</td>\n",
       "      <td>region_3</td>\n",
       "      <td>NaN</td>\n",
       "      <td>NaN</td>\n",
       "      <td>MastersBachelorsnan</td>\n",
       "      <td>Masters</td>\n",
       "      <td>4</td>\n",
       "    </tr>\n",
       "    <tr>\n",
       "      <th>3290</th>\n",
       "      <td>2486</td>\n",
       "      <td>Associate Relationship Manager</td>\n",
       "      <td>Sales</td>\n",
       "      <td>Offer Sent</td>\n",
       "      <td>2018-12-06 00:00:00</td>\n",
       "      <td>Campus Event</td>\n",
       "      <td>82500</td>\n",
       "      <td>11.865672</td>\n",
       "      <td>Other</td>\n",
       "      <td>Masters</td>\n",
       "      <td>region_1</td>\n",
       "      <td>Bachelors</td>\n",
       "      <td>region_5</td>\n",
       "      <td>NaN</td>\n",
       "      <td>NaN</td>\n",
       "      <td>MastersBachelorsnan</td>\n",
       "      <td>Masters</td>\n",
       "      <td>4</td>\n",
       "    </tr>\n",
       "    <tr>\n",
       "      <th>...</th>\n",
       "      <td>...</td>\n",
       "      <td>...</td>\n",
       "      <td>...</td>\n",
       "      <td>...</td>\n",
       "      <td>...</td>\n",
       "      <td>...</td>\n",
       "      <td>...</td>\n",
       "      <td>...</td>\n",
       "      <td>...</td>\n",
       "      <td>...</td>\n",
       "      <td>...</td>\n",
       "      <td>...</td>\n",
       "      <td>...</td>\n",
       "      <td>...</td>\n",
       "      <td>...</td>\n",
       "      <td>...</td>\n",
       "      <td>...</td>\n",
       "      <td>...</td>\n",
       "    </tr>\n",
       "    <tr>\n",
       "      <th>1374</th>\n",
       "      <td>6374672</td>\n",
       "      <td>Associate Software Developer</td>\n",
       "      <td>Engineering</td>\n",
       "      <td>Phone Screen</td>\n",
       "      <td>2016-11-06 00:00:00</td>\n",
       "      <td>Campus Event</td>\n",
       "      <td>69100</td>\n",
       "      <td>29.704918</td>\n",
       "      <td>Government</td>\n",
       "      <td>PhD</td>\n",
       "      <td>region_4</td>\n",
       "      <td>Masters</td>\n",
       "      <td>region_4</td>\n",
       "      <td>Bachelors</td>\n",
       "      <td>region_3</td>\n",
       "      <td>PhDMastersBachelors</td>\n",
       "      <td>PhD</td>\n",
       "      <td>2</td>\n",
       "    </tr>\n",
       "    <tr>\n",
       "      <th>923</th>\n",
       "      <td>6375449</td>\n",
       "      <td>Associate Software Developer</td>\n",
       "      <td>Engineering</td>\n",
       "      <td>Phone Screen</td>\n",
       "      <td>2018-01-17 00:00:00</td>\n",
       "      <td>Advertisement</td>\n",
       "      <td>75900</td>\n",
       "      <td>32.491803</td>\n",
       "      <td>Finance</td>\n",
       "      <td>PhD</td>\n",
       "      <td>region_1</td>\n",
       "      <td>Masters</td>\n",
       "      <td>region_4</td>\n",
       "      <td>Bachelors</td>\n",
       "      <td>region_1</td>\n",
       "      <td>PhDMastersBachelors</td>\n",
       "      <td>PhD</td>\n",
       "      <td>2</td>\n",
       "    </tr>\n",
       "    <tr>\n",
       "      <th>3546</th>\n",
       "      <td>6376227</td>\n",
       "      <td>Associate Relationship Manager</td>\n",
       "      <td>Sales</td>\n",
       "      <td>Phone Screen</td>\n",
       "      <td>2016-10-07 00:00:00</td>\n",
       "      <td>Campus Job Board</td>\n",
       "      <td>79700</td>\n",
       "      <td>10.611940</td>\n",
       "      <td>Technology</td>\n",
       "      <td>Masters</td>\n",
       "      <td>region_1</td>\n",
       "      <td>Bachelors</td>\n",
       "      <td>region_3</td>\n",
       "      <td>NaN</td>\n",
       "      <td>NaN</td>\n",
       "      <td>MastersBachelorsnan</td>\n",
       "      <td>Masters</td>\n",
       "      <td>2</td>\n",
       "    </tr>\n",
       "    <tr>\n",
       "      <th>1282</th>\n",
       "      <td>6377006</td>\n",
       "      <td>Associate Software Developer</td>\n",
       "      <td>Engineering</td>\n",
       "      <td>Phone Screen</td>\n",
       "      <td>2017-03-19 00:00:00</td>\n",
       "      <td>Campus Job Board</td>\n",
       "      <td>69900</td>\n",
       "      <td>30.032787</td>\n",
       "      <td>Government</td>\n",
       "      <td>PhD</td>\n",
       "      <td>region_3</td>\n",
       "      <td>Masters</td>\n",
       "      <td>region_2</td>\n",
       "      <td>Bachelors</td>\n",
       "      <td>region_4</td>\n",
       "      <td>PhDMastersBachelors</td>\n",
       "      <td>PhD</td>\n",
       "      <td>2</td>\n",
       "    </tr>\n",
       "    <tr>\n",
       "      <th>1575</th>\n",
       "      <td>6377786</td>\n",
       "      <td>Associate Software Developer</td>\n",
       "      <td>Engineering</td>\n",
       "      <td>Phone Screen</td>\n",
       "      <td>2017-10-01 00:00:00</td>\n",
       "      <td>Campus Job Board</td>\n",
       "      <td>67500</td>\n",
       "      <td>29.049180</td>\n",
       "      <td>Government</td>\n",
       "      <td>Bachelors</td>\n",
       "      <td>region_3</td>\n",
       "      <td>Masters</td>\n",
       "      <td>region_1</td>\n",
       "      <td>PhD</td>\n",
       "      <td>region_5</td>\n",
       "      <td>BachelorsMastersPhD</td>\n",
       "      <td>PhD</td>\n",
       "      <td>2</td>\n",
       "    </tr>\n",
       "  </tbody>\n",
       "</table>\n",
       "<p>4966 rows × 18 columns</p>\n",
       "</div>"
      ],
      "text/plain": [
       "      cand_id                        position         dept furthest_stage  \\\n",
       "820      2468    Associate Software Developer  Engineering     Offer Sent   \n",
       "4002     2471  Associate Relationship Manager        Sales     Offer Sent   \n",
       "1181     2475    Associate Software Developer  Engineering     Offer Sent   \n",
       "2917     2480  Associate Relationship Manager        Sales     Offer Sent   \n",
       "3290     2486  Associate Relationship Manager        Sales     Offer Sent   \n",
       "...       ...                             ...          ...            ...   \n",
       "1374  6374672    Associate Software Developer  Engineering   Phone Screen   \n",
       "923   6375449    Associate Software Developer  Engineering   Phone Screen   \n",
       "3546  6376227  Associate Relationship Manager        Sales   Phone Screen   \n",
       "1282  6377006    Associate Software Developer  Engineering   Phone Screen   \n",
       "1575  6377786    Associate Software Developer  Engineering   Phone Screen   \n",
       "\n",
       "                 app_date        app_source  comp_exp    yrs_exp    industry  \\\n",
       "820   2018-11-01 00:00:00  Campus Job Board     85100  36.262295  Government   \n",
       "4002  2018-12-13 00:00:00      Campus Event     74700   8.373134       Other   \n",
       "1181  2018-12-21 00:00:00     Advertisement     70900  30.442623  Government   \n",
       "2917  2018-12-25 00:00:00      Campus Event     93000  16.567164  Government   \n",
       "3290  2018-12-06 00:00:00      Campus Event     82500  11.865672       Other   \n",
       "...                   ...               ...       ...        ...         ...   \n",
       "1374  2016-11-06 00:00:00      Campus Event     69100  29.704918  Government   \n",
       "923   2018-01-17 00:00:00     Advertisement     75900  32.491803     Finance   \n",
       "3546  2016-10-07 00:00:00  Campus Job Board     79700  10.611940  Technology   \n",
       "1282  2017-03-19 00:00:00  Campus Job Board     69900  30.032787  Government   \n",
       "1575  2017-10-01 00:00:00  Campus Job Board     67500  29.049180  Government   \n",
       "\n",
       "       degree_1 school_region_1   degree_2 school_region_2   degree_3  \\\n",
       "820         PhD        region_5    Masters        region_4  Bachelors   \n",
       "4002    Masters        region_2  Bachelors        region_5        NaN   \n",
       "1181    Masters        region_5  Bachelors        region_3        NaN   \n",
       "2917    Masters        region_2  Bachelors        region_3        NaN   \n",
       "3290    Masters        region_1  Bachelors        region_5        NaN   \n",
       "...         ...             ...        ...             ...        ...   \n",
       "1374        PhD        region_4    Masters        region_4  Bachelors   \n",
       "923         PhD        region_1    Masters        region_4  Bachelors   \n",
       "3546    Masters        region_1  Bachelors        region_3        NaN   \n",
       "1282        PhD        region_3    Masters        region_2  Bachelors   \n",
       "1575  Bachelors        region_3    Masters        region_1        PhD   \n",
       "\n",
       "     school_region_3        Degree Concat Highest Degree  furthers_stage_enc  \n",
       "820         region_2  PhDMastersBachelors            PhD                   4  \n",
       "4002             NaN  MastersBachelorsnan        Masters                   4  \n",
       "1181             NaN  MastersBachelorsnan        Masters                   4  \n",
       "2917             NaN  MastersBachelorsnan        Masters                   4  \n",
       "3290             NaN  MastersBachelorsnan        Masters                   4  \n",
       "...              ...                  ...            ...                 ...  \n",
       "1374        region_3  PhDMastersBachelors            PhD                   2  \n",
       "923         region_1  PhDMastersBachelors            PhD                   2  \n",
       "3546             NaN  MastersBachelorsnan        Masters                   2  \n",
       "1282        region_4  PhDMastersBachelors            PhD                   2  \n",
       "1575        region_5  BachelorsMastersPhD            PhD                   2  \n",
       "\n",
       "[4966 rows x 18 columns]"
      ]
     },
     "execution_count": 119,
     "metadata": {},
     "output_type": "execute_result"
    }
   ],
   "source": [
    "df"
   ]
  },
  {
   "cell_type": "code",
   "execution_count": 123,
   "metadata": {},
   "outputs": [
    {
     "data": {
      "text/plain": [
       "dept         Highest Degree\n",
       "Engineering  Bachelors         27.269791\n",
       "             Masters           27.199736\n",
       "             PhD               30.161872\n",
       "Finance      Bachelors         12.017938\n",
       "             Masters           13.508965\n",
       "             PhD               12.882562\n",
       "IT           Bachelors         13.367176\n",
       "             Masters           12.675496\n",
       "             PhD                9.617657\n",
       "Product      Bachelors          7.884705\n",
       "             Masters            9.224817\n",
       "             PhD                7.821522\n",
       "Sales        Bachelors         10.135428\n",
       "             Masters           10.387706\n",
       "             PhD                8.935670\n",
       "Name: yrs_exp, dtype: float64"
      ]
     },
     "execution_count": 123,
     "metadata": {},
     "output_type": "execute_result"
    }
   ],
   "source": [
    "df.groupby(['dept','Highest Degree']).yrs_exp.mean()"
   ]
  },
  {
   "cell_type": "code",
   "execution_count": 124,
   "metadata": {},
   "outputs": [],
   "source": [
    "df['PhD/xPhD'] = np.where(df['Highest Degree']=='PhD',\"PhD\", \"Not PhD\")"
   ]
  },
  {
   "cell_type": "code",
   "execution_count": 125,
   "metadata": {},
   "outputs": [
    {
     "data": {
      "text/plain": [
       "dept         PhD/xPhD\n",
       "Engineering  Not PhD     63664.342629\n",
       "             PhD         72212.866450\n",
       "Finance      Not PhD     76780.909091\n",
       "             PhD         77026.086957\n",
       "IT           Not PhD     75405.600000\n",
       "             PhD         64905.882353\n",
       "Product      Not PhD     69796.797153\n",
       "             PhD         70933.783784\n",
       "Sales        Not PhD     79404.638089\n",
       "             PhD         78435.294118\n",
       "Name: comp_exp, dtype: float64"
      ]
     },
     "execution_count": 125,
     "metadata": {},
     "output_type": "execute_result"
    }
   ],
   "source": [
    "df.groupby(['dept','PhD/xPhD']).comp_exp.mean()"
   ]
  },
  {
   "cell_type": "code",
   "execution_count": 126,
   "metadata": {},
   "outputs": [
    {
     "data": {
      "text/plain": [
       "PhD/xPhD\n",
       "Not PhD    71821.104536\n",
       "PhD        72440.109890\n",
       "Name: comp_exp, dtype: float64"
      ]
     },
     "execution_count": 126,
     "metadata": {},
     "output_type": "execute_result"
    }
   ],
   "source": [
    "df.groupby(['PhD/xPhD']).comp_exp.mean()"
   ]
  },
  {
   "cell_type": "code",
   "execution_count": 127,
   "metadata": {},
   "outputs": [
    {
     "data": {
      "text/plain": [
       "Ttest_indResult(statistic=1.4687906508100252, pvalue=0.14195294572437875)"
      ]
     },
     "execution_count": 127,
     "metadata": {},
     "output_type": "execute_result"
    }
   ],
   "source": [
    "from scipy import stats\n",
    "A = df[df['PhD/xPhD']=='PhD']['comp_exp'].values.tolist()\n",
    "B = df[df['PhD/xPhD']!='PhD']['comp_exp'].values.tolist()\n",
    "t_check=stats.ttest_ind(A,B)\n",
    "t_check\n",
    "# alpha=0.05"
   ]
  },
  {
   "cell_type": "code",
   "execution_count": 129,
   "metadata": {},
   "outputs": [
    {
     "name": "stdout",
     "output_type": "stream",
     "text": [
      "Engineering Ttest_indResult(statistic=16.860158034231144, pvalue=6.010553476002879e-60)\n",
      "Sales Ttest_indResult(statistic=-1.4561465414618162, pvalue=0.14556292839792448)\n",
      "Product Ttest_indResult(statistic=1.6891393900981306, pvalue=0.0916330114102228)\n",
      "Finance Ttest_indResult(statistic=0.1042711631289842, pvalue=0.9169973553998898)\n",
      "IT Ttest_indResult(statistic=-4.439021062287182, pvalue=1.695028188027191e-05)\n"
     ]
    }
   ],
   "source": [
    "for dept in df.dept.unique():\n",
    "    A = df[(df['PhD/xPhD']=='PhD')&(df.dept==dept)]['comp_exp'].values.tolist()\n",
    "    B = df[(df['PhD/xPhD']!='PhD')&(df.dept==dept)]['comp_exp'].values.tolist()\n",
    "    t_check=stats.ttest_ind(A,B)\n",
    "    print(dept, t_check)\n",
    "    "
   ]
  },
  {
   "cell_type": "code",
   "execution_count": 162,
   "metadata": {},
   "outputs": [],
   "source": [
    "def expectation_differences(df, var, alpha=0.05):\n",
    "    for v in df[var].unique():\n",
    "        A = df[(df['PhD/xPhD']=='PhD')&(df[var]==v)]['comp_exp'].values.tolist()\n",
    "        B = df[(df['PhD/xPhD']!='PhD')&(df[var]==v)]['comp_exp'].values.tolist()\n",
    "        t_check=stats.ttest_ind(A,B)\n",
    "        sig = \"Yes\" if t_check[1]<alpha else \"No\"\n",
    "        print(var, \": {} | PhD Expectations: {:.0f}| XPhD Expectations: {:.0f} | Diff: {:.1%} | Sig?: {}\".format(v,np.mean(A), np.mean(B), np.mean(A)/np.mean(B)-1, sig))\n",
    "        \n",
    "    "
   ]
  },
  {
   "cell_type": "code",
   "execution_count": 163,
   "metadata": {},
   "outputs": [
    {
     "name": "stdout",
     "output_type": "stream",
     "text": [
      "industry : Government | PhD Expectations: 72520| XPhD Expectations: 71872 | Diff: 0.9% | Sig?: No\n",
      "industry : Other | PhD Expectations: 73821| XPhD Expectations: 71844 | Diff: 2.8% | Sig?: No\n",
      "industry : Finance | PhD Expectations: 71740| XPhD Expectations: 71766 | Diff: -0.0% | Sig?: No\n",
      "industry : Technology | PhD Expectations: 71679| XPhD Expectations: 71804 | Diff: -0.2% | Sig?: No\n"
     ]
    }
   ],
   "source": [
    "expectation_differences(df, var='industry', alpha=0.05)"
   ]
  },
  {
   "cell_type": "code",
   "execution_count": 164,
   "metadata": {},
   "outputs": [
    {
     "name": "stdout",
     "output_type": "stream",
     "text": [
      "dept : Engineering | PhD Expectations: 72213| XPhD Expectations: 63664 | Diff: 13.4% | Sig?: Yes\n",
      "dept : Sales | PhD Expectations: 78435| XPhD Expectations: 79405 | Diff: -1.2% | Sig?: No\n",
      "dept : Product | PhD Expectations: 70934| XPhD Expectations: 69797 | Diff: 1.6% | Sig?: No\n",
      "dept : Finance | PhD Expectations: 77026| XPhD Expectations: 76781 | Diff: 0.3% | Sig?: No\n",
      "dept : IT | PhD Expectations: 64906| XPhD Expectations: 75406 | Diff: -13.9% | Sig?: Yes\n"
     ]
    }
   ],
   "source": [
    "expectation_differences(df, var='dept', alpha=0.05)"
   ]
  },
  {
   "cell_type": "code",
   "execution_count": 132,
   "metadata": {},
   "outputs": [
    {
     "name": "stderr",
     "output_type": "stream",
     "text": [
      "C:\\Users\\Steve\\AppData\\Local\\Temp\\ipykernel_18532\\1134722465.py:1: FutureWarning: The default value of numeric_only in DataFrame.corr is deprecated. In a future version, it will default to False. Select only valid columns or specify the value of numeric_only to silence this warning.\n",
      "  df.corr()\n"
     ]
    },
    {
     "data": {
      "text/html": [
       "<div>\n",
       "<style scoped>\n",
       "    .dataframe tbody tr th:only-of-type {\n",
       "        vertical-align: middle;\n",
       "    }\n",
       "\n",
       "    .dataframe tbody tr th {\n",
       "        vertical-align: top;\n",
       "    }\n",
       "\n",
       "    .dataframe thead th {\n",
       "        text-align: right;\n",
       "    }\n",
       "</style>\n",
       "<table border=\"1\" class=\"dataframe\">\n",
       "  <thead>\n",
       "    <tr style=\"text-align: right;\">\n",
       "      <th></th>\n",
       "      <th>cand_id</th>\n",
       "      <th>comp_exp</th>\n",
       "      <th>yrs_exp</th>\n",
       "      <th>furthers_stage_enc</th>\n",
       "    </tr>\n",
       "  </thead>\n",
       "  <tbody>\n",
       "    <tr>\n",
       "      <th>cand_id</th>\n",
       "      <td>1.000000</td>\n",
       "      <td>0.102038</td>\n",
       "      <td>-0.107227</td>\n",
       "      <td>0.160530</td>\n",
       "    </tr>\n",
       "    <tr>\n",
       "      <th>comp_exp</th>\n",
       "      <td>0.102038</td>\n",
       "      <td>1.000000</td>\n",
       "      <td>-0.171959</td>\n",
       "      <td>0.056151</td>\n",
       "    </tr>\n",
       "    <tr>\n",
       "      <th>yrs_exp</th>\n",
       "      <td>-0.107227</td>\n",
       "      <td>-0.171959</td>\n",
       "      <td>1.000000</td>\n",
       "      <td>-0.017641</td>\n",
       "    </tr>\n",
       "    <tr>\n",
       "      <th>furthers_stage_enc</th>\n",
       "      <td>0.160530</td>\n",
       "      <td>0.056151</td>\n",
       "      <td>-0.017641</td>\n",
       "      <td>1.000000</td>\n",
       "    </tr>\n",
       "  </tbody>\n",
       "</table>\n",
       "</div>"
      ],
      "text/plain": [
       "                     cand_id  comp_exp   yrs_exp  furthers_stage_enc\n",
       "cand_id             1.000000  0.102038 -0.107227            0.160530\n",
       "comp_exp            0.102038  1.000000 -0.171959            0.056151\n",
       "yrs_exp            -0.107227 -0.171959  1.000000           -0.017641\n",
       "furthers_stage_enc  0.160530  0.056151 -0.017641            1.000000"
      ]
     },
     "execution_count": 132,
     "metadata": {},
     "output_type": "execute_result"
    }
   ],
   "source": [
    "df.corr()"
   ]
  },
  {
   "cell_type": "code",
   "execution_count": 169,
   "metadata": {},
   "outputs": [
    {
     "name": "stdout",
     "output_type": "stream",
     "text": [
      "Government | -0.21006674307654422\n",
      "Other | -0.11852629684610715\n",
      "Finance | -0.22290449878704857\n",
      "Technology | -0.18505137440421593\n"
     ]
    }
   ],
   "source": [
    "for ind in df.industry.unique():\n",
    "    print(\"{} | {}\".format(ind, df.loc[df.industry==ind].corr(numeric_only=True).loc[\"yrs_exp\",\"comp_exp\"]))"
   ]
  },
  {
   "cell_type": "code",
   "execution_count": 170,
   "metadata": {},
   "outputs": [
    {
     "name": "stdout",
     "output_type": "stream",
     "text": [
      "Engineering | 0.3635376715049671\n",
      "Sales | 0.9386079313813136\n",
      "Product | 0.9269334156589362\n",
      "Finance | 0.9400767683714518\n",
      "IT | 0.9376046066040987\n"
     ]
    }
   ],
   "source": [
    "for ind in df.dept.unique():\n",
    "    print(\"{} | {}\".format(ind, df.loc[df.dept==ind].corr(numeric_only=True).loc[\"yrs_exp\",\"comp_exp\"]))"
   ]
  },
  {
   "cell_type": "code",
   "execution_count": 172,
   "metadata": {},
   "outputs": [
    {
     "name": "stdout",
     "output_type": "stream",
     "text": [
      "Associate Software Developer | 0.885691890943713\n",
      "Associate Relationship Manager | 0.9999999999999996\n",
      "Associate Product Manager | 0.9920912254335537\n",
      "Finance Manager | 0.9999999999999993\n",
      "Finance Generalist | 0.9999999999999998\n",
      "Business Operations Manager | 0.9553459910355876\n",
      "Sr. Business Analyst | 0.9999999999999999\n",
      "Sr. Product Manager | 1.0000000000000007\n",
      "IT Analyst | 1.0\n",
      "Sr. Software Engineer | 0.22913390122905342\n",
      "UX Designer | 1.0000000000000002\n",
      "Financial Analyst | 1.0000000000000002\n",
      "Account Executive | 0.965738472793396\n"
     ]
    }
   ],
   "source": [
    "for ind in df.position.unique():\n",
    "    print(\"{} | {}\".format(ind, df.loc[df.position==ind].corr(numeric_only=True).loc[\"yrs_exp\",\"comp_exp\"]))"
   ]
  },
  {
   "cell_type": "code",
   "execution_count": 145,
   "metadata": {},
   "outputs": [
    {
     "name": "stdout",
     "output_type": "stream",
     "text": [
      "|      |   cand_id | position                       | dept        | furthest_stage   | app_date            | app_source       |   comp_exp |   yrs_exp | industry   | degree_1   | school_region_1   | degree_2   | school_region_2   | degree_3   | school_region_3   | Highest Degree   |\n",
      "|-----:|----------:|:-------------------------------|:------------|:-----------------|:--------------------|:-----------------|-----------:|----------:|:-----------|:-----------|:------------------|:-----------|:------------------|:-----------|:------------------|:-----------------|\n",
      "|  820 |      2468 | Associate Software Developer   | Engineering | Offer Sent       | 2018-11-01 00:00:00 | Campus Job Board |      85100 |  36.2623  | Government | PhD        | region_5          | Masters    | region_4          | Bachelors  | region_2          | PhD              |\n",
      "| 4002 |      2471 | Associate Relationship Manager | Sales       | Offer Sent       | 2018-12-13 00:00:00 | Campus Event     |      74700 |   8.37313 | Other      | Masters    | region_2          | Bachelors  | region_5          | nan        | nan               | Masters          |\n",
      "| 1181 |      2475 | Associate Software Developer   | Engineering | Offer Sent       | 2018-12-21 00:00:00 | Advertisement    |      70900 |  30.4426  | Government | Masters    | region_5          | Bachelors  | region_3          | nan        | nan               | Masters          |\n",
      "| 2917 |      2480 | Associate Relationship Manager | Sales       | Offer Sent       | 2018-12-25 00:00:00 | Campus Event     |      93000 |  16.5672  | Government | Masters    | region_2          | Bachelors  | region_3          | nan        | nan               | Masters          |\n",
      "| 3290 |      2486 | Associate Relationship Manager | Sales       | Offer Sent       | 2018-12-06 00:00:00 | Campus Event     |      82500 |  11.8657  | Other      | Masters    | region_1          | Bachelors  | region_5          | nan        | nan               | Masters          |\n"
     ]
    }
   ],
   "source": [
    "print(df.drop(['Degree Concat','furthers_stage_enc','PhD/xPhD'], axis=1).head().to_markdown())\n",
    "\n"
   ]
  },
  {
   "cell_type": "code",
   "execution_count": null,
   "metadata": {},
   "outputs": [],
   "source": []
  },
  {
   "cell_type": "code",
   "execution_count": 174,
   "metadata": {},
   "outputs": [
    {
     "data": {
      "text/plain": [
       "Index(['cand_id', 'position', 'dept', 'furthest_stage', 'app_date',\n",
       "       'app_source', 'comp_exp', 'yrs_exp', 'industry', 'degree_1',\n",
       "       'school_region_1', 'degree_2', 'school_region_2', 'degree_3',\n",
       "       'school_region_3', 'Degree Concat', 'Highest Degree',\n",
       "       'furthers_stage_enc', 'PhD/xPhD'],\n",
       "      dtype='object')"
      ]
     },
     "execution_count": 174,
     "metadata": {},
     "output_type": "execute_result"
    }
   ],
   "source": [
    "df.columns"
   ]
  },
  {
   "cell_type": "code",
   "execution_count": 220,
   "metadata": {},
   "outputs": [],
   "source": [
    "cols = [\n",
    "    # 'position', \n",
    "        'dept', \n",
    "        'furthest_stage', 'app_source', 'comp_exp', 'yrs_exp', 'industry','Highest Degree']"
   ]
  },
  {
   "cell_type": "code",
   "execution_count": 221,
   "metadata": {},
   "outputs": [
    {
     "data": {
      "text/plain": [
       "0.7426168740229018"
      ]
     },
     "execution_count": 221,
     "metadata": {},
     "output_type": "execute_result"
    }
   ],
   "source": [
    "X = pd.get_dummies(df[cols], drop_first='True').drop(['comp_exp'], axis=1)\n",
    "y = np.log(df.comp_exp)\n",
    "\n",
    "import numpy as np\n",
    "from sklearn.linear_model import LinearRegression\n",
    "\n",
    "reg = LinearRegression().fit(X, y)\n",
    "reg.score(X, y)\n"
   ]
  },
  {
   "cell_type": "code",
   "execution_count": 222,
   "metadata": {},
   "outputs": [],
   "source": [
    "coefficients = pd.concat([pd.DataFrame(X.columns),pd.DataFrame(np.transpose(reg.coef_))], axis = 1)\n",
    "coefficients.to_csv('test.csv')"
   ]
  },
  {
   "cell_type": "code",
   "execution_count": 223,
   "metadata": {},
   "outputs": [],
   "source": [
    "from statsmodels.stats.outliers_influence import variance_inflation_factor\n",
    "\n",
    "vif_data = pd.DataFrame()\n",
    "vif_data[\"feature\"] = X.columns\n",
    "  \n",
    "# calculating VIF for each feature\n",
    "vif_data[\"VIF\"] = [variance_inflation_factor(X.values, i)\n",
    "                          for i in range(len(X.columns))]"
   ]
  },
  {
   "cell_type": "code",
   "execution_count": 227,
   "metadata": {},
   "outputs": [
    {
     "name": "stdout",
     "output_type": "stream",
     "text": [
      "                            OLS Regression Results                            \n",
      "==============================================================================\n",
      "Dep. Variable:               comp_exp   R-squared:                       0.743\n",
      "Model:                            OLS   Adj. R-squared:                  0.742\n",
      "Method:                 Least Squares   F-statistic:                     713.4\n",
      "Date:                Wed, 05 Apr 2023   Prob (F-statistic):               0.00\n",
      "Time:                        18:47:26   Log-Likelihood:                 5740.6\n",
      "No. Observations:                4966   AIC:                        -1.144e+04\n",
      "Df Residuals:                    4945   BIC:                        -1.130e+04\n",
      "Df Model:                          20                                         \n",
      "Covariance Type:            nonrobust                                         \n",
      "==================================================================================================\n",
      "                                     coef    std err          t      P>|t|      [0.025      0.975]\n",
      "--------------------------------------------------------------------------------------------------\n",
      "const                             10.3581      0.011    950.260      0.000      10.337      10.379\n",
      "yrs_exp                            0.0256      0.000     74.421      0.000       0.025       0.026\n",
      "dept_Finance                       0.5256      0.007     76.319      0.000       0.512       0.539\n",
      "dept_IT                            0.4765      0.009     55.540      0.000       0.460       0.493\n",
      "dept_Product                       0.5704      0.008     74.001      0.000       0.555       0.586\n",
      "dept_Sales                         0.6530      0.007     97.057      0.000       0.640       0.666\n",
      "furthest_stage_New Application     0.0068      0.003      2.017      0.044       0.000       0.013\n",
      "furthest_stage_Offer Sent         -0.0014      0.007     -0.188      0.851      -0.016       0.013\n",
      "furthest_stage_Phone Screen       -0.0017      0.004     -0.434      0.664      -0.010       0.006\n",
      "app_source_Agency                  0.0735      0.006     11.875      0.000       0.061       0.086\n",
      "app_source_Campus Event           -0.0034      0.005     -0.719      0.472      -0.013       0.006\n",
      "app_source_Campus Job Board       -0.0009      0.004     -0.225      0.822      -0.009       0.007\n",
      "app_source_Career Fair            -0.0021      0.004     -0.505      0.614      -0.010       0.006\n",
      "app_source_Internal Referral       0.0519      0.012      4.255      0.000       0.028       0.076\n",
      "app_source_Outsourced             -0.0472      0.010     -4.955      0.000      -0.066      -0.029\n",
      "app_source_Website                 0.0222      0.005      4.779      0.000       0.013       0.031\n",
      "industry_Government               -0.0002      0.003     -0.079      0.937      -0.006       0.006\n",
      "industry_Other                    -0.0012      0.003     -0.404      0.686      -0.007       0.005\n",
      "industry_Technology               -0.0034      0.003     -1.109      0.267      -0.009       0.003\n",
      "Highest Degree_Masters            -0.0015      0.003     -0.557      0.577      -0.007       0.004\n",
      "Highest Degree_PhD                 0.0331      0.003      9.947      0.000       0.027       0.040\n",
      "==============================================================================\n",
      "Omnibus:                     7422.224   Durbin-Watson:                   2.040\n",
      "Prob(Omnibus):                  0.000   Jarque-Bera (JB):         91962257.454\n",
      "Skew:                          -7.831   Prob(JB):                         0.00\n",
      "Kurtosis:                     669.480   Cond. No.                         316.\n",
      "==============================================================================\n",
      "\n",
      "Notes:\n",
      "[1] Standard Errors assume that the covariance matrix of the errors is correctly specified.\n"
     ]
    }
   ],
   "source": [
    "import statsmodels.api as sm\n",
    "from scipy import stats\n",
    "\n",
    "X = pd.get_dummies(df[cols], drop_first='True').drop(['comp_exp'], axis=1)\n",
    "y = np.log(df.comp_exp)\n",
    "\n",
    "X2 = sm.add_constant(X)\n",
    "est = sm.OLS(y, X2)\n",
    "est2 = est.fit()\n",
    "print(est2.summary())"
   ]
  },
  {
   "cell_type": "code",
   "execution_count": 228,
   "metadata": {},
   "outputs": [
    {
     "data": {
      "text/plain": [
       "Engineering    2120\n",
       "Sales          1491\n",
       "Product         710\n",
       "Finance         486\n",
       "IT              159\n",
       "Name: dept, dtype: int64"
      ]
     },
     "execution_count": 228,
     "metadata": {},
     "output_type": "execute_result"
    }
   ],
   "source": [
    "df.dept.value_counts()"
   ]
  },
  {
   "cell_type": "code",
   "execution_count": 229,
   "metadata": {},
   "outputs": [
    {
     "name": "stdout",
     "output_type": "stream",
     "text": [
      "                            OLS Regression Results                            \n",
      "==============================================================================\n",
      "Dep. Variable:               comp_exp   R-squared:                       0.926\n",
      "Model:                            OLS   Adj. R-squared:                  0.924\n",
      "Method:                 Least Squares   F-statistic:                     369.2\n",
      "Date:                Wed, 05 Apr 2023   Prob (F-statistic):          8.32e-254\n",
      "Time:                        18:50:52   Log-Likelihood:                 703.51\n",
      "No. Observations:                 486   AIC:                            -1373.\n",
      "Df Residuals:                     469   BIC:                            -1302.\n",
      "Df Model:                          16                                         \n",
      "Covariance Type:            nonrobust                                         \n",
      "==================================================================================================\n",
      "                                     coef    std err          t      P>|t|      [0.025      0.975]\n",
      "--------------------------------------------------------------------------------------------------\n",
      "const                             10.8854      0.016    670.737      0.000      10.854      10.917\n",
      "yrs_exp                            0.0251      0.001     36.104      0.000       0.024       0.026\n",
      "furthest_stage_New Application     0.0253      0.008      3.309      0.001       0.010       0.040\n",
      "furthest_stage_Offer Sent         -0.0134      0.015     -0.908      0.364      -0.043       0.016\n",
      "furthest_stage_Phone Screen        0.0129      0.009      1.399      0.162      -0.005       0.031\n",
      "app_source_Agency                  0.0589      0.011      5.418      0.000       0.038       0.080\n",
      "app_source_Campus Event           -0.0961      0.024     -4.045      0.000      -0.143      -0.049\n",
      "app_source_Campus Job Board       -0.1071      0.019     -5.570      0.000      -0.145      -0.069\n",
      "app_source_Career Fair            -0.0098      0.013     -0.773      0.440      -0.035       0.015\n",
      "app_source_Internal Referral       0.0381      0.015      2.503      0.013       0.008       0.068\n",
      "app_source_Outsourced             -0.0608      0.013     -4.725      0.000      -0.086      -0.036\n",
      "app_source_Website                 0.0643      0.011      5.934      0.000       0.043       0.086\n",
      "industry_Government             6.773e-05      0.008      0.009      0.993      -0.015       0.015\n",
      "industry_Other                    -0.0012      0.008     -0.163      0.871      -0.016       0.014\n",
      "industry_Technology                0.0098      0.008      1.242      0.215      -0.006       0.025\n",
      "Highest Degree_Masters            -0.0119      0.006     -1.968      0.050      -0.024   -1.66e-05\n",
      "Highest Degree_PhD                -0.0139      0.010     -1.396      0.163      -0.034       0.006\n",
      "==============================================================================\n",
      "Omnibus:                       10.775   Durbin-Watson:                   1.987\n",
      "Prob(Omnibus):                  0.005   Jarque-Bera (JB):               10.893\n",
      "Skew:                          -0.361   Prob(JB):                      0.00431\n",
      "Kurtosis:                       3.131   Cond. No.                         168.\n",
      "==============================================================================\n",
      "\n",
      "Notes:\n",
      "[1] Standard Errors assume that the covariance matrix of the errors is correctly specified.\n"
     ]
    }
   ],
   "source": [
    "import statsmodels.api as sm\n",
    "from scipy import stats\n",
    "\n",
    "X = pd.get_dummies(df[cols].loc[df.dept=='Finance'], drop_first='True').drop(['comp_exp'], axis=1)\n",
    "y = np.log(df.loc[df.dept=='Finance'].comp_exp)\n",
    "\n",
    "X2 = sm.add_constant(X)\n",
    "est = sm.OLS(y, X2)\n",
    "est2 = est.fit()\n",
    "print(est2.summary())"
   ]
  },
  {
   "cell_type": "code",
   "execution_count": 235,
   "metadata": {},
   "outputs": [
    {
     "ename": "AttributeError",
     "evalue": "'SimpleTable' object has no attribute 'loc'",
     "output_type": "error",
     "traceback": [
      "\u001b[1;31m---------------------------------------------------------------------------\u001b[0m",
      "\u001b[1;31mAttributeError\u001b[0m                            Traceback (most recent call last)",
      "Cell \u001b[1;32mIn[235], line 1\u001b[0m\n\u001b[1;32m----> 1\u001b[0m est2\u001b[39m.\u001b[39msummary()\u001b[39m.\u001b[39mtables[\u001b[39m1\u001b[39m]\u001b[39m.\u001b[39mloc[\u001b[39m'\u001b[39m\u001b[39mHighest Degree_PhD\u001b[39m\u001b[39m'\u001b[39m]\n",
      "\u001b[1;31mAttributeError\u001b[0m: 'SimpleTable' object has no attribute 'loc'"
     ]
    }
   ],
   "source": [
    "est2.summary().tables[1].loc['Highest Degree_PhD']"
   ]
  },
  {
   "cell_type": "code",
   "execution_count": null,
   "metadata": {},
   "outputs": [],
   "source": []
  }
 ],
 "metadata": {
  "kernelspec": {
   "display_name": "citibike",
   "language": "python",
   "name": "python3"
  },
  "language_info": {
   "codemirror_mode": {
    "name": "ipython",
    "version": 3
   },
   "file_extension": ".py",
   "mimetype": "text/x-python",
   "name": "python",
   "nbconvert_exporter": "python",
   "pygments_lexer": "ipython3",
   "version": "3.11.0"
  },
  "orig_nbformat": 4
 },
 "nbformat": 4,
 "nbformat_minor": 2
}
